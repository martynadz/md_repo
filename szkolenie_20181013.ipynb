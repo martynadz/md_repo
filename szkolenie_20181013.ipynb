{
 "cells": [
  {
   "cell_type": "markdown",
   "metadata": {},
   "source": [
    "# Dzień pierwszy - bootcamp\n",
    "___\n",
    "* podstawy linux\n",
    "* podstawy GIT\n",
    "* podstawy python"
   ]
  },
  {
   "cell_type": "code",
   "execution_count": 1,
   "metadata": {},
   "outputs": [
    {
     "name": "stdout",
     "output_type": "stream",
     "text": [
      "hello M\n"
     ]
    }
   ],
   "source": [
    "print(\"hello M\")"
   ]
  },
  {
   "cell_type": "code",
   "execution_count": 2,
   "metadata": {},
   "outputs": [
    {
     "name": "stdout",
     "output_type": "stream",
     "text": [
      "łaka łaka\n"
     ]
    }
   ],
   "source": [
    "print(\"łaka łaka\")"
   ]
  },
  {
   "cell_type": "markdown",
   "metadata": {},
   "source": [
    "## Zmienne w Python\n",
    "* Ciągi znaków (stringi)\n",
    "* Liczby"
   ]
  },
  {
   "cell_type": "markdown",
   "metadata": {},
   "source": [
    "### Ciągi znaków"
   ]
  },
  {
   "cell_type": "code",
   "execution_count": 5,
   "metadata": {},
   "outputs": [],
   "source": [
    "zmienna_znakowa = 'Hello World !' #lepiej stosować pojedynczy cudzysłów, bo ma to później znaczenie"
   ]
  },
  {
   "cell_type": "code",
   "execution_count": 6,
   "metadata": {},
   "outputs": [
    {
     "name": "stdout",
     "output_type": "stream",
     "text": [
      "Hello World !\n"
     ]
    }
   ],
   "source": [
    "print(zmienna_znakowa) #tab podpowiada składnię"
   ]
  },
  {
   "cell_type": "code",
   "execution_count": 7,
   "metadata": {
    "scrolled": true
   },
   "outputs": [
    {
     "ename": "SyntaxError",
     "evalue": "invalid syntax (<ipython-input-7-780deda480db>, line 2)",
     "output_type": "error",
     "traceback": [
      "\u001b[0;36m  File \u001b[0;32m\"<ipython-input-7-780deda480db>\"\u001b[0;36m, line \u001b[0;32m2\u001b[0m\n\u001b[0;31m    zmienna_znakowa2 = \"Hello World \" tekst \" !\"\u001b[0m\n\u001b[0m                                          ^\u001b[0m\n\u001b[0;31mSyntaxError\u001b[0m\u001b[0;31m:\u001b[0m invalid syntax\n"
     ]
    }
   ],
   "source": [
    "#chcemy mieć w tekście cydzysłów\n",
    "zmienna_znakowa2 = \"Hello World \" tekst \" !\" #tak nie zadziała\n",
    "print(zmienna_znakowa2)"
   ]
  },
  {
   "cell_type": "code",
   "execution_count": 8,
   "metadata": {},
   "outputs": [
    {
     "name": "stdout",
     "output_type": "stream",
     "text": [
      "Hello World \" tekst \" !\n"
     ]
    }
   ],
   "source": [
    "zmienna_znakowa2 = \"Hello World \\\" tekst \\\" !\" #tak jest ok, oznaczamy\\ znaki specjalne\n",
    "print(zmienna_znakowa2)"
   ]
  },
  {
   "cell_type": "code",
   "execution_count": 11,
   "metadata": {},
   "outputs": [
    {
     "name": "stdout",
     "output_type": "stream",
     "text": [
      "Hello World \" tekst \" !\n"
     ]
    }
   ],
   "source": [
    "zmienna_znakowa2 = 'Hello World \\\" tekst \\\" !' #tak też jest ok\n",
    "print(zmienna_znakowa2)"
   ]
  },
  {
   "cell_type": "code",
   "execution_count": null,
   "metadata": {},
   "outputs": [],
   "source": []
  }
 ],
 "metadata": {
  "kernelspec": {
   "display_name": "Python 3",
   "language": "python",
   "name": "python3"
  },
  "language_info": {
   "codemirror_mode": {
    "name": "ipython",
    "version": 3
   },
   "file_extension": ".py",
   "mimetype": "text/x-python",
   "name": "python",
   "nbconvert_exporter": "python",
   "pygments_lexer": "ipython3",
   "version": "3.7.0"
  }
 },
 "nbformat": 4,
 "nbformat_minor": 2
}
